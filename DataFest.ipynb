{
 "cells": [
  {
   "cell_type": "markdown",
   "id": "2205ab52",
   "metadata": {},
   "source": [
    "# DatafestAfrica ML Hackathon Exploration"
   ]
  },
  {
   "cell_type": "markdown",
   "id": "eddb926b",
   "metadata": {},
   "source": [
    "## Introduction\n",
    "> This exploration is done on the train and test data provided for the competition. There are 21 features and 20 features in train and test respectively."
   ]
  },
  {
   "cell_type": "code",
   "execution_count": 47,
   "id": "e1a15401",
   "metadata": {},
   "outputs": [],
   "source": [
    "#import all packages\n",
    "import numpy as np\n",
    "import pandas as pd\n",
    "import seaborn as sns\n",
    "import matplotlib.pyplot as plt\n",
    "import warnings\n",
    "\n",
    "%matplotlib inline\n",
    "warnings.filterwarnings('ignore')"
   ]
  },
  {
   "cell_type": "code",
   "execution_count": 4,
   "id": "c14cfb7c",
   "metadata": {},
   "outputs": [],
   "source": [
    "#loading data\n",
    "train = pd.read_csv('train.csv')\n",
    "test = pd.read_csv('test.csv')"
   ]
  },
  {
   "cell_type": "code",
   "execution_count": 5,
   "id": "17546613",
   "metadata": {},
   "outputs": [
    {
     "data": {
      "text/html": [
       "<div>\n",
       "<style scoped>\n",
       "    .dataframe tbody tr th:only-of-type {\n",
       "        vertical-align: middle;\n",
       "    }\n",
       "\n",
       "    .dataframe tbody tr th {\n",
       "        vertical-align: top;\n",
       "    }\n",
       "\n",
       "    .dataframe thead th {\n",
       "        text-align: right;\n",
       "    }\n",
       "</style>\n",
       "<table border=\"1\" class=\"dataframe\">\n",
       "  <thead>\n",
       "    <tr style=\"text-align: right;\">\n",
       "      <th></th>\n",
       "      <th>Entry_id</th>\n",
       "      <th>age</th>\n",
       "      <th>pay_schedule</th>\n",
       "      <th>home_owner</th>\n",
       "      <th>income</th>\n",
       "      <th>months_employed</th>\n",
       "      <th>years_employed</th>\n",
       "      <th>current_address_year</th>\n",
       "      <th>personal_account_m</th>\n",
       "      <th>personal_account_y</th>\n",
       "      <th>...</th>\n",
       "      <th>amount_requested</th>\n",
       "      <th>risk_score</th>\n",
       "      <th>risk_score_2</th>\n",
       "      <th>risk_score_3</th>\n",
       "      <th>risk_score_4</th>\n",
       "      <th>risk_score_5</th>\n",
       "      <th>ext_quality_score</th>\n",
       "      <th>ext_quality_score_2</th>\n",
       "      <th>inquiries_last_month</th>\n",
       "      <th>e_signed</th>\n",
       "    </tr>\n",
       "  </thead>\n",
       "  <tbody>\n",
       "    <tr>\n",
       "      <th>0</th>\n",
       "      <td>7629673</td>\n",
       "      <td>40</td>\n",
       "      <td>bi-weekly</td>\n",
       "      <td>1</td>\n",
       "      <td>3135</td>\n",
       "      <td>0</td>\n",
       "      <td>3</td>\n",
       "      <td>3</td>\n",
       "      <td>6</td>\n",
       "      <td>2</td>\n",
       "      <td>...</td>\n",
       "      <td>550</td>\n",
       "      <td>36200</td>\n",
       "      <td>0.737398</td>\n",
       "      <td>0.903517</td>\n",
       "      <td>0.487712</td>\n",
       "      <td>0.515977</td>\n",
       "      <td>0.580918</td>\n",
       "      <td>0.380918</td>\n",
       "      <td>10</td>\n",
       "      <td>1</td>\n",
       "    </tr>\n",
       "    <tr>\n",
       "      <th>1</th>\n",
       "      <td>5335819</td>\n",
       "      <td>33</td>\n",
       "      <td>semi-monthly</td>\n",
       "      <td>0</td>\n",
       "      <td>3590</td>\n",
       "      <td>0</td>\n",
       "      <td>5</td>\n",
       "      <td>2</td>\n",
       "      <td>2</td>\n",
       "      <td>8</td>\n",
       "      <td>...</td>\n",
       "      <td>1100</td>\n",
       "      <td>53850</td>\n",
       "      <td>0.617361</td>\n",
       "      <td>0.857560</td>\n",
       "      <td>0.613487</td>\n",
       "      <td>0.665523</td>\n",
       "      <td>0.744634</td>\n",
       "      <td>0.744634</td>\n",
       "      <td>12</td>\n",
       "      <td>0</td>\n",
       "    </tr>\n",
       "    <tr>\n",
       "      <th>2</th>\n",
       "      <td>8492423</td>\n",
       "      <td>21</td>\n",
       "      <td>weekly</td>\n",
       "      <td>0</td>\n",
       "      <td>2303</td>\n",
       "      <td>0</td>\n",
       "      <td>5</td>\n",
       "      <td>8</td>\n",
       "      <td>2</td>\n",
       "      <td>7</td>\n",
       "      <td>...</td>\n",
       "      <td>600</td>\n",
       "      <td>74850</td>\n",
       "      <td>0.677109</td>\n",
       "      <td>0.758765</td>\n",
       "      <td>0.495609</td>\n",
       "      <td>0.664762</td>\n",
       "      <td>0.592556</td>\n",
       "      <td>0.492556</td>\n",
       "      <td>6</td>\n",
       "      <td>1</td>\n",
       "    </tr>\n",
       "    <tr>\n",
       "      <th>3</th>\n",
       "      <td>7948313</td>\n",
       "      <td>26</td>\n",
       "      <td>bi-weekly</td>\n",
       "      <td>0</td>\n",
       "      <td>2795</td>\n",
       "      <td>0</td>\n",
       "      <td>4</td>\n",
       "      <td>4</td>\n",
       "      <td>1</td>\n",
       "      <td>6</td>\n",
       "      <td>...</td>\n",
       "      <td>800</td>\n",
       "      <td>50800</td>\n",
       "      <td>0.738055</td>\n",
       "      <td>0.873204</td>\n",
       "      <td>0.666437</td>\n",
       "      <td>0.700392</td>\n",
       "      <td>0.584130</td>\n",
       "      <td>0.684130</td>\n",
       "      <td>14</td>\n",
       "      <td>1</td>\n",
       "    </tr>\n",
       "    <tr>\n",
       "      <th>4</th>\n",
       "      <td>4297036</td>\n",
       "      <td>43</td>\n",
       "      <td>bi-weekly</td>\n",
       "      <td>0</td>\n",
       "      <td>5000</td>\n",
       "      <td>0</td>\n",
       "      <td>2</td>\n",
       "      <td>1</td>\n",
       "      <td>1</td>\n",
       "      <td>2</td>\n",
       "      <td>...</td>\n",
       "      <td>1100</td>\n",
       "      <td>69100</td>\n",
       "      <td>0.798303</td>\n",
       "      <td>0.841747</td>\n",
       "      <td>0.401971</td>\n",
       "      <td>0.568787</td>\n",
       "      <td>0.525905</td>\n",
       "      <td>0.725905</td>\n",
       "      <td>5</td>\n",
       "      <td>1</td>\n",
       "    </tr>\n",
       "  </tbody>\n",
       "</table>\n",
       "<p>5 rows × 21 columns</p>\n",
       "</div>"
      ],
      "text/plain": [
       "   Entry_id  age  pay_schedule  home_owner  income  months_employed  \\\n",
       "0   7629673   40     bi-weekly           1    3135                0   \n",
       "1   5335819   33  semi-monthly           0    3590                0   \n",
       "2   8492423   21        weekly           0    2303                0   \n",
       "3   7948313   26     bi-weekly           0    2795                0   \n",
       "4   4297036   43     bi-weekly           0    5000                0   \n",
       "\n",
       "   years_employed  current_address_year  personal_account_m  \\\n",
       "0               3                     3                   6   \n",
       "1               5                     2                   2   \n",
       "2               5                     8                   2   \n",
       "3               4                     4                   1   \n",
       "4               2                     1                   1   \n",
       "\n",
       "   personal_account_y  ...  amount_requested  risk_score  risk_score_2  \\\n",
       "0                   2  ...               550       36200      0.737398   \n",
       "1                   8  ...              1100       53850      0.617361   \n",
       "2                   7  ...               600       74850      0.677109   \n",
       "3                   6  ...               800       50800      0.738055   \n",
       "4                   2  ...              1100       69100      0.798303   \n",
       "\n",
       "   risk_score_3  risk_score_4  risk_score_5  ext_quality_score  \\\n",
       "0      0.903517      0.487712      0.515977           0.580918   \n",
       "1      0.857560      0.613487      0.665523           0.744634   \n",
       "2      0.758765      0.495609      0.664762           0.592556   \n",
       "3      0.873204      0.666437      0.700392           0.584130   \n",
       "4      0.841747      0.401971      0.568787           0.525905   \n",
       "\n",
       "   ext_quality_score_2  inquiries_last_month  e_signed  \n",
       "0             0.380918                    10         1  \n",
       "1             0.744634                    12         0  \n",
       "2             0.492556                     6         1  \n",
       "3             0.684130                    14         1  \n",
       "4             0.725905                     5         1  \n",
       "\n",
       "[5 rows x 21 columns]"
      ]
     },
     "execution_count": 5,
     "metadata": {},
     "output_type": "execute_result"
    }
   ],
   "source": [
    "#top 5 rows\n",
    "train.head()"
   ]
  },
  {
   "cell_type": "code",
   "execution_count": 16,
   "id": "62305e87",
   "metadata": {},
   "outputs": [
    {
     "name": "stdout",
     "output_type": "stream",
     "text": [
      "(12516, 21)\n",
      "(5392, 20)\n"
     ]
    }
   ],
   "source": [
    "print(train.shape)\n",
    "print(test.shape)"
   ]
  },
  {
   "cell_type": "code",
   "execution_count": 14,
   "id": "785f1dd0",
   "metadata": {},
   "outputs": [
    {
     "data": {
      "text/plain": [
       "Index(['Entry_id', 'age', 'pay_schedule', 'home_owner', 'income',\n",
       "       'months_employed', 'years_employed', 'current_address_year',\n",
       "       'personal_account_m', 'personal_account_y', 'has_debt',\n",
       "       'amount_requested', 'risk_score', 'risk_score_2', 'risk_score_3',\n",
       "       'risk_score_4', 'risk_score_5', 'ext_quality_score',\n",
       "       'ext_quality_score_2', 'inquiries_last_month', 'e_signed'],\n",
       "      dtype='object')"
      ]
     },
     "execution_count": 14,
     "metadata": {},
     "output_type": "execute_result"
    }
   ],
   "source": [
    "train.columns"
   ]
  },
  {
   "cell_type": "code",
   "execution_count": 17,
   "id": "46968aae",
   "metadata": {},
   "outputs": [
    {
     "data": {
      "text/plain": [
       "Index(['Entry_id', 'age', 'pay_schedule', 'home_owner', 'income',\n",
       "       'months_employed', 'years_employed', 'current_address_year',\n",
       "       'personal_account_m', 'personal_account_y', 'has_debt',\n",
       "       'amount_requested', 'risk_score', 'risk_score_2', 'risk_score_3',\n",
       "       'risk_score_4', 'risk_score_5', 'ext_quality_score',\n",
       "       'ext_quality_score_2', 'inquiries_last_month'],\n",
       "      dtype='object')"
      ]
     },
     "execution_count": 17,
     "metadata": {},
     "output_type": "execute_result"
    }
   ],
   "source": [
    "test.columns"
   ]
  },
  {
   "cell_type": "markdown",
   "id": "34393ebe",
   "metadata": {},
   "source": [
    "The train contain 12516 records, 21 columns while the test contain 5392 records and 20 columns. The difference of the train and test in features is the target column `e_signed`."
   ]
  },
  {
   "cell_type": "code",
   "execution_count": 20,
   "id": "79e397c9",
   "metadata": {},
   "outputs": [
    {
     "name": "stdout",
     "output_type": "stream",
     "text": [
      "<class 'pandas.core.frame.DataFrame'>\n",
      "RangeIndex: 12516 entries, 0 to 12515\n",
      "Data columns (total 21 columns):\n",
      " #   Column                Non-Null Count  Dtype  \n",
      "---  ------                --------------  -----  \n",
      " 0   Entry_id              12516 non-null  int64  \n",
      " 1   age                   12516 non-null  int64  \n",
      " 2   pay_schedule          12516 non-null  object \n",
      " 3   home_owner            12516 non-null  int64  \n",
      " 4   income                12516 non-null  int64  \n",
      " 5   months_employed       12516 non-null  int64  \n",
      " 6   years_employed        12516 non-null  int64  \n",
      " 7   current_address_year  12516 non-null  int64  \n",
      " 8   personal_account_m    12516 non-null  int64  \n",
      " 9   personal_account_y    12516 non-null  int64  \n",
      " 10  has_debt              12516 non-null  int64  \n",
      " 11  amount_requested      12516 non-null  int64  \n",
      " 12  risk_score            12516 non-null  int64  \n",
      " 13  risk_score_2          12516 non-null  float64\n",
      " 14  risk_score_3          12516 non-null  float64\n",
      " 15  risk_score_4          12516 non-null  float64\n",
      " 16  risk_score_5          12516 non-null  float64\n",
      " 17  ext_quality_score     12516 non-null  float64\n",
      " 18  ext_quality_score_2   12516 non-null  float64\n",
      " 19  inquiries_last_month  12516 non-null  int64  \n",
      " 20  e_signed              12516 non-null  int64  \n",
      "dtypes: float64(6), int64(14), object(1)\n",
      "memory usage: 2.0+ MB\n"
     ]
    }
   ],
   "source": [
    "train.info()"
   ]
  },
  {
   "cell_type": "code",
   "execution_count": 22,
   "id": "4e5dd48a",
   "metadata": {},
   "outputs": [
    {
     "name": "stdout",
     "output_type": "stream",
     "text": [
      "<class 'pandas.core.frame.DataFrame'>\n",
      "RangeIndex: 5392 entries, 0 to 5391\n",
      "Data columns (total 20 columns):\n",
      " #   Column                Non-Null Count  Dtype  \n",
      "---  ------                --------------  -----  \n",
      " 0   Entry_id              5392 non-null   int64  \n",
      " 1   age                   5392 non-null   int64  \n",
      " 2   pay_schedule          5392 non-null   object \n",
      " 3   home_owner            5392 non-null   int64  \n",
      " 4   income                5392 non-null   int64  \n",
      " 5   months_employed       5392 non-null   int64  \n",
      " 6   years_employed        5392 non-null   int64  \n",
      " 7   current_address_year  5392 non-null   int64  \n",
      " 8   personal_account_m    5392 non-null   int64  \n",
      " 9   personal_account_y    5392 non-null   int64  \n",
      " 10  has_debt              5392 non-null   int64  \n",
      " 11  amount_requested      5392 non-null   int64  \n",
      " 12  risk_score            5392 non-null   int64  \n",
      " 13  risk_score_2          5392 non-null   float64\n",
      " 14  risk_score_3          5392 non-null   float64\n",
      " 15  risk_score_4          5392 non-null   float64\n",
      " 16  risk_score_5          5392 non-null   float64\n",
      " 17  ext_quality_score     5392 non-null   float64\n",
      " 18  ext_quality_score_2   5392 non-null   float64\n",
      " 19  inquiries_last_month  5392 non-null   int64  \n",
      "dtypes: float64(6), int64(13), object(1)\n",
      "memory usage: 842.6+ KB\n"
     ]
    }
   ],
   "source": [
    "test.info()"
   ]
  },
  {
   "cell_type": "markdown",
   "id": "ff850031",
   "metadata": {},
   "source": [
    "The train and test is made up of float, int and object dtypes. Some of the features have been preprocessed to numerical e.g `home_owner`, `months_employed`, `years_employed` which could have been categorical."
   ]
  },
  {
   "cell_type": "markdown",
   "id": "5ff28ed9",
   "metadata": {},
   "source": [
    "The dataset(train and test) contain no missing values."
   ]
  },
  {
   "cell_type": "code",
   "execution_count": 43,
   "id": "d0c385d0",
   "metadata": {},
   "outputs": [
    {
     "name": "stdout",
     "output_type": "stream",
     "text": [
      "0\n",
      "0\n"
     ]
    }
   ],
   "source": [
    "print(train.duplicated().sum())\n",
    "print(test.duplicated().sum())"
   ]
  },
  {
   "cell_type": "markdown",
   "id": "d9be0890",
   "metadata": {},
   "source": [
    "Both the train and test contain no duplicate."
   ]
  },
  {
   "cell_type": "markdown",
   "id": "1492c082",
   "metadata": {},
   "source": [
    "### Age"
   ]
  },
  {
   "cell_type": "code",
   "execution_count": 24,
   "id": "304b814e",
   "metadata": {},
   "outputs": [],
   "source": [
    "#distribution plot for the age"
   ]
  },
  {
   "cell_type": "code",
   "execution_count": 74,
   "id": "1b1b4625",
   "metadata": {},
   "outputs": [],
   "source": [
    "#a function to plot histogram\n",
    "def histogram(name):\n",
    "    fig, ax = plt.subplots(ncols=2, figsize = [10,5])\n",
    "    ax[0].hist(train[name])\n",
    "    ax[1].hist(test[name])\n",
    "    plt.xlabel(name)\n",
    "    ax[0].title.set_text(name+'_Train')\n",
    "    ax[1].title.set_text(name+'_Test');"
   ]
  },
  {
   "cell_type": "code",
   "execution_count": 77,
   "id": "42bc60d1",
   "metadata": {
    "scrolled": true
   },
   "outputs": [
    {
     "data": {
      "image/png": "[encoded data removed]",
      "text/plain": [
       "<Figure size 720x360 with 2 Axes>"
      ]
     },
     "metadata": {
      "needs_background": "light"
     },
     "output_type": "display_data"
    }
   ],
   "source": [
    "histogram('age')"
   ]
  },
  {
   "cell_type": "markdown",
   "id": "864fbc2f",
   "metadata": {},
   "source": [
    "The distribution of the age follows a normal distribution. and 90% of the age of the record is between 30 - 60 years. And the distribution plotted shows no outliers."
   ]
  },
  {
   "cell_type": "markdown",
   "id": "f7f403bb",
   "metadata": {},
   "source": [
    "### Pay_schedule"
   ]
  },
  {
   "cell_type": "code",
   "execution_count": 70,
   "id": "8d9986b0",
   "metadata": {},
   "outputs": [],
   "source": [
    "#a function to plot count of categories\n",
    "def countplot(name):\n",
    "    \n",
    "    #to set order of categories\n",
    "    train_order = train[name].value_counts().keys()\n",
    "    test_order = test[name].value_counts().keys()\n",
    "    \n",
    "    fig, ax = plt.subplots(ncols=2, figsize = [10,5])\n",
    "    sns.countplot(train[name], ax=ax[0], color='blue', order=train_order)\n",
    "    sns.countplot(test[name], ax=ax[1], color='blue', order=test_order)\n",
    "    \n",
    "    ax[0].title.set_text(name+'_Train')\n",
    "    ax[1].title.set_text(name+'_Test');"
   ]
  },
  {
   "cell_type": "code",
   "execution_count": 71,
   "id": "173aba25",
   "metadata": {
    "scrolled": true
   },
   "outputs": [
    {
     "data": {
      "image/png": "[encoded data removed]",
      "text/plain": [
       "<Figure size 720x360 with 2 Axes>"
      ]
     },
     "metadata": {
      "needs_background": "light"
     },
     "output_type": "display_data"
    }
   ],
   "source": [
    "countplot('pay_schedule')"
   ]
  },
  {
   "cell_type": "code",
   "execution_count": 117,
   "id": "f2334567",
   "metadata": {},
   "outputs": [
    {
     "data": {
      "image/png": "[encoded data removed]",
      "text/plain": [
       "<Figure size 432x288 with 1 Axes>"
      ]
     },
     "metadata": {
      "needs_background": "light"
     },
     "output_type": "display_data"
    }
   ],
   "source": [
    "sns.countplot(train.pay_schedule, hue=train.e_signed);"
   ]
  },
  {
   "cell_type": "markdown",
   "id": "d99799ac",
   "metadata": {},
   "source": [
    "In both cases of our data, the bi-weekly pay schedule is the most preferred way of payment followed by weeky and lastly monthly. The chart also shows that there are 4 categories of pay schedule; Weekly, Bi-weekly, Semi-monthly and Monthly.\n",
    "\n",
    "The payment method using ratio of each categories has no much impact on the approval."
   ]
  },
  {
   "cell_type": "markdown",
   "id": "e28d7b06",
   "metadata": {},
   "source": [
    "### Home Owner"
   ]
  },
  {
   "cell_type": "code",
   "execution_count": 72,
   "id": "85e2b8db",
   "metadata": {},
   "outputs": [
    {
     "data": {
      "image/png": "[encoded data removed]",
      "text/plain": [
       "<Figure size 720x360 with 2 Axes>"
      ]
     },
     "metadata": {
      "needs_background": "light"
     },
     "output_type": "display_data"
    }
   ],
   "source": [
    "countplot('home_owner')"
   ]
  },
  {
   "cell_type": "code",
   "execution_count": 73,
   "id": "1e9dd3ae",
   "metadata": {},
   "outputs": [
    {
     "data": {
      "text/plain": [
       "0    0.574944\n",
       "1    0.425056\n",
       "Name: home_owner, dtype: float64"
      ]
     },
     "execution_count": 73,
     "metadata": {},
     "output_type": "execute_result"
    }
   ],
   "source": [
    "train.home_owner.value_counts(normalize=True)"
   ]
  },
  {
   "cell_type": "code",
   "execution_count": 118,
   "id": "e95f9c5d",
   "metadata": {},
   "outputs": [
    {
     "data": {
      "image/png": "[encoded data removed]",
      "text/plain": [
       "<Figure size 432x288 with 1 Axes>"
      ]
     },
     "metadata": {
      "needs_background": "light"
     },
     "output_type": "display_data"
    }
   ],
   "source": [
    "sns.countplot(train.home_owner, hue=train.e_signed);"
   ]
  },
  {
   "cell_type": "markdown",
   "id": "d7913151",
   "metadata": {},
   "source": [
    "Assuming having a home is 1 and not is 0, it shows that in the dataset does without homes are a little bit more than those who have. \n",
    "\n",
    "Almost all home owner gets equal chance of getting approved or rejected. "
   ]
  },
  {
   "cell_type": "markdown",
   "id": "df72149b",
   "metadata": {},
   "source": [
    "### Income"
   ]
  },
  {
   "cell_type": "code",
   "execution_count": 75,
   "id": "e4737038",
   "metadata": {},
   "outputs": [
    {
     "data": {
      "image/png": "[encoded data removed]",
      "text/plain": [
       "<Figure size 720x360 with 2 Axes>"
      ]
     },
     "metadata": {
      "needs_background": "light"
     },
     "output_type": "display_data"
    }
   ],
   "source": [
    "histogram('income')"
   ]
  },
  {
   "cell_type": "markdown",
   "id": "c0658478",
   "metadata": {},
   "source": [
    "The income distribution is right skewed, it also show as spike of customer earning within 2000 to 3000 borrowing more. \n",
    "A log transformation of this may improve modelo performance and further analysis."
   ]
  },
  {
   "cell_type": "markdown",
   "id": "c7fce970",
   "metadata": {},
   "source": [
    "### Month Employed"
   ]
  },
  {
   "cell_type": "code",
   "execution_count": 78,
   "id": "442382a2",
   "metadata": {},
   "outputs": [
    {
     "data": {
      "image/png": "[encoded data removed]",
      "text/plain": [
       "<Figure size 720x360 with 2 Axes>"
      ]
     },
     "metadata": {
      "needs_background": "light"
     },
     "output_type": "display_data"
    }
   ],
   "source": [
    "countplot('months_employed')"
   ]
  },
  {
   "cell_type": "markdown",
   "id": "9bef7e0c",
   "metadata": {},
   "source": [
    "Something seems not right, the data shows a behaviour of customer having more to borrow in the 0 month which can be December or January. This period is a festive period\n",
    "To boost model performance this feature can be dummified or used in feature generation."
   ]
  },
  {
   "cell_type": "markdown",
   "id": "abd0f52d",
   "metadata": {},
   "source": [
    "### Year Employed"
   ]
  },
  {
   "cell_type": "code",
   "execution_count": 80,
   "id": "4975e6e9",
   "metadata": {},
   "outputs": [
    {
     "data": {
      "image/png": "[encoded data removed]",
      "text/plain": [
       "<Figure size 720x360 with 2 Axes>"
      ]
     },
     "metadata": {
      "needs_background": "light"
     },
     "output_type": "display_data"
    }
   ],
   "source": [
    "countplot('years_employed')"
   ]
  },
  {
   "cell_type": "markdown",
   "id": "ac301b90",
   "metadata": {},
   "source": [
    "Majority of the those that borrow have less than 7 years of employment. and one-hot will be a bad idea for the feature, the train has data with higher year of employment than the test."
   ]
  },
  {
   "cell_type": "markdown",
   "id": "50b68803",
   "metadata": {},
   "source": [
    "### Current Address Year"
   ]
  },
  {
   "cell_type": "code",
   "execution_count": 82,
   "id": "0117f0f6",
   "metadata": {},
   "outputs": [
    {
     "data": {
      "image/png": "[encoded data removed]",
      "text/plain": [
       "<Figure size 720x360 with 2 Axes>"
      ]
     },
     "metadata": {
      "needs_background": "light"
     },
     "output_type": "display_data"
    }
   ],
   "source": [
    "countplot('current_address_year')"
   ]
  },
  {
   "cell_type": "markdown",
   "id": "6bf79bb7",
   "metadata": {},
   "source": [
    "### Has Debt"
   ]
  },
  {
   "cell_type": "code",
   "execution_count": 84,
   "id": "66b92451",
   "metadata": {},
   "outputs": [
    {
     "data": {
      "image/png": "[encoded data removed]",
      "text/plain": [
       "<Figure size 720x360 with 2 Axes>"
      ]
     },
     "metadata": {
      "needs_background": "light"
     },
     "output_type": "display_data"
    }
   ],
   "source": [
    "countplot('has_debt')"
   ]
  },
  {
   "cell_type": "code",
   "execution_count": 86,
   "id": "35d90250",
   "metadata": {},
   "outputs": [
    {
     "data": {
      "image/png": "[encoded data removed]",
      "text/plain": [
       "<Figure size 432x288 with 1 Axes>"
      ]
     },
     "metadata": {
      "needs_background": "light"
     },
     "output_type": "display_data"
    }
   ],
   "source": [
    "sns.countplot(train.has_debt, hue = train.e_signed);"
   ]
  },
  {
   "cell_type": "markdown",
   "id": "0a6ad3a6",
   "metadata": {},
   "source": [
    "This shows that majority has debt, if 1 represent Yes in the encoded data. And there is a strong correlation between the e-signed and the 0 has_debt.\n",
    "Shows that having debt might be a good consideration in approving loan."
   ]
  },
  {
   "cell_type": "markdown",
   "id": "4a98c370",
   "metadata": {},
   "source": [
    "### Amount Request"
   ]
  },
  {
   "cell_type": "code",
   "execution_count": 87,
   "id": "4483120b",
   "metadata": {},
   "outputs": [
    {
     "data": {
      "image/png": "[encoded data removed]",
      "text/plain": [
       "<Figure size 720x360 with 2 Axes>"
      ]
     },
     "metadata": {
      "needs_background": "light"
     },
     "output_type": "display_data"
    }
   ],
   "source": [
    "histogram('amount_requested')"
   ]
  },
  {
   "cell_type": "code",
   "execution_count": 88,
   "id": "97cc6ea3",
   "metadata": {},
   "outputs": [
    {
     "data": {
      "text/plain": [
       "<AxesSubplot:xlabel='amount_requested'>"
      ]
     },
     "execution_count": 88,
     "metadata": {},
     "output_type": "execute_result"
    },
    {
     "data": {
      "image/png": "[encoded data removed]",
      "text/plain": [
       "<Figure size 432x288 with 1 Axes>"
      ]
     },
     "metadata": {
      "needs_background": "light"
     },
     "output_type": "display_data"
    }
   ],
   "source": [
    "sns.boxplot(train.amount_requested)"
   ]
  },
  {
   "cell_type": "markdown",
   "id": "451859ad",
   "metadata": {},
   "source": [
    "The amount requested can be has high as 10000, which can be outlier, and it is left skewed. Log transformation can cause a change."
   ]
  },
  {
   "cell_type": "markdown",
   "id": "c0f9fb49",
   "metadata": {},
   "source": [
    "### Risk Score"
   ]
  },
  {
   "cell_type": "code",
   "execution_count": 95,
   "id": "ba60a931",
   "metadata": {},
   "outputs": [
    {
     "data": {
      "text/html": [
       "<div>\n",
       "<style scoped>\n",
       "    .dataframe tbody tr th:only-of-type {\n",
       "        vertical-align: middle;\n",
       "    }\n",
       "\n",
       "    .dataframe tbody tr th {\n",
       "        vertical-align: top;\n",
       "    }\n",
       "\n",
       "    .dataframe thead th {\n",
       "        text-align: right;\n",
       "    }\n",
       "</style>\n",
       "<table border=\"1\" class=\"dataframe\">\n",
       "  <thead>\n",
       "    <tr style=\"text-align: right;\">\n",
       "      <th></th>\n",
       "      <th>risk_score</th>\n",
       "      <th>risk_score_2</th>\n",
       "      <th>risk_score_3</th>\n",
       "      <th>risk_score_4</th>\n",
       "      <th>risk_score_5</th>\n",
       "    </tr>\n",
       "  </thead>\n",
       "  <tbody>\n",
       "    <tr>\n",
       "      <th>0</th>\n",
       "      <td>36200</td>\n",
       "      <td>0.737398</td>\n",
       "      <td>0.903517</td>\n",
       "      <td>0.487712</td>\n",
       "      <td>0.515977</td>\n",
       "    </tr>\n",
       "    <tr>\n",
       "      <th>1</th>\n",
       "      <td>53850</td>\n",
       "      <td>0.617361</td>\n",
       "      <td>0.857560</td>\n",
       "      <td>0.613487</td>\n",
       "      <td>0.665523</td>\n",
       "    </tr>\n",
       "    <tr>\n",
       "      <th>2</th>\n",
       "      <td>74850</td>\n",
       "      <td>0.677109</td>\n",
       "      <td>0.758765</td>\n",
       "      <td>0.495609</td>\n",
       "      <td>0.664762</td>\n",
       "    </tr>\n",
       "    <tr>\n",
       "      <th>3</th>\n",
       "      <td>50800</td>\n",
       "      <td>0.738055</td>\n",
       "      <td>0.873204</td>\n",
       "      <td>0.666437</td>\n",
       "      <td>0.700392</td>\n",
       "    </tr>\n",
       "    <tr>\n",
       "      <th>4</th>\n",
       "      <td>69100</td>\n",
       "      <td>0.798303</td>\n",
       "      <td>0.841747</td>\n",
       "      <td>0.401971</td>\n",
       "      <td>0.568787</td>\n",
       "    </tr>\n",
       "  </tbody>\n",
       "</table>\n",
       "</div>"
      ],
      "text/plain": [
       "   risk_score  risk_score_2  risk_score_3  risk_score_4  risk_score_5\n",
       "0       36200      0.737398      0.903517      0.487712      0.515977\n",
       "1       53850      0.617361      0.857560      0.613487      0.665523\n",
       "2       74850      0.677109      0.758765      0.495609      0.664762\n",
       "3       50800      0.738055      0.873204      0.666437      0.700392\n",
       "4       69100      0.798303      0.841747      0.401971      0.568787"
      ]
     },
     "execution_count": 95,
     "metadata": {},
     "output_type": "execute_result"
    }
   ],
   "source": [
    "train[['risk_score', 'risk_score_2', 'risk_score_3',\n",
    "       'risk_score_4', 'risk_score_5']].head()"
   ]
  },
  {
   "cell_type": "markdown",
   "id": "220555ce",
   "metadata": {},
   "source": [
    "The risk score value seems odd compared to others which could have been a mistake. It will be divided by 100000 to bring it to others level"
   ]
  },
  {
   "cell_type": "code",
   "execution_count": 99,
   "id": "b38f968f",
   "metadata": {},
   "outputs": [],
   "source": [
    "train.risk_score = train.risk_score/100000\n",
    "test.risk_score = test.risk_score/100000"
   ]
  },
  {
   "cell_type": "markdown",
   "id": "610b7b45",
   "metadata": {},
   "source": [
    "Getting the average of the risk_scores might be a good one and for further exploration"
   ]
  },
  {
   "cell_type": "code",
   "execution_count": 113,
   "id": "40ae858e",
   "metadata": {},
   "outputs": [],
   "source": [
    "train['risk_average'] = (train.risk_score + train.risk_score_2 + train.risk_score_3 + train.risk_score_4 + train.risk_score_5)/5\n",
    "\n",
    "test['risk_average'] = (test.risk_score + test.risk_score_2 + test.risk_score_3 + test.risk_score_4 + test.risk_score_5)/5"
   ]
  },
  {
   "cell_type": "markdown",
   "id": "1d08d1de",
   "metadata": {},
   "source": [
    "### Checking the average risk score of the loan approved compared to the others"
   ]
  },
  {
   "cell_type": "code",
   "execution_count": 114,
   "id": "17d48487",
   "metadata": {},
   "outputs": [
    {
     "data": {
      "text/html": [
       "<div>\n",
       "<style scoped>\n",
       "    .dataframe tbody tr th:only-of-type {\n",
       "        vertical-align: middle;\n",
       "    }\n",
       "\n",
       "    .dataframe tbody tr th {\n",
       "        vertical-align: top;\n",
       "    }\n",
       "\n",
       "    .dataframe thead th {\n",
       "        text-align: right;\n",
       "    }\n",
       "</style>\n",
       "<table border=\"1\" class=\"dataframe\">\n",
       "  <thead>\n",
       "    <tr style=\"text-align: right;\">\n",
       "      <th></th>\n",
       "      <th>Entry_id</th>\n",
       "      <th>age</th>\n",
       "      <th>pay_schedule</th>\n",
       "      <th>home_owner</th>\n",
       "      <th>income</th>\n",
       "      <th>months_employed</th>\n",
       "      <th>years_employed</th>\n",
       "      <th>current_address_year</th>\n",
       "      <th>personal_account_m</th>\n",
       "      <th>personal_account_y</th>\n",
       "      <th>...</th>\n",
       "      <th>risk_score</th>\n",
       "      <th>risk_score_2</th>\n",
       "      <th>risk_score_3</th>\n",
       "      <th>risk_score_4</th>\n",
       "      <th>risk_score_5</th>\n",
       "      <th>ext_quality_score</th>\n",
       "      <th>ext_quality_score_2</th>\n",
       "      <th>inquiries_last_month</th>\n",
       "      <th>e_signed</th>\n",
       "      <th>risk_average</th>\n",
       "    </tr>\n",
       "  </thead>\n",
       "  <tbody>\n",
       "    <tr>\n",
       "      <th>0</th>\n",
       "      <td>7629673</td>\n",
       "      <td>40</td>\n",
       "      <td>bi-weekly</td>\n",
       "      <td>1</td>\n",
       "      <td>3135</td>\n",
       "      <td>0</td>\n",
       "      <td>3</td>\n",
       "      <td>3</td>\n",
       "      <td>6</td>\n",
       "      <td>2</td>\n",
       "      <td>...</td>\n",
       "      <td>0.3620</td>\n",
       "      <td>0.737398</td>\n",
       "      <td>0.903517</td>\n",
       "      <td>0.487712</td>\n",
       "      <td>0.515977</td>\n",
       "      <td>0.580918</td>\n",
       "      <td>0.380918</td>\n",
       "      <td>10</td>\n",
       "      <td>1</td>\n",
       "      <td>0.601321</td>\n",
       "    </tr>\n",
       "    <tr>\n",
       "      <th>1</th>\n",
       "      <td>5335819</td>\n",
       "      <td>33</td>\n",
       "      <td>semi-monthly</td>\n",
       "      <td>0</td>\n",
       "      <td>3590</td>\n",
       "      <td>0</td>\n",
       "      <td>5</td>\n",
       "      <td>2</td>\n",
       "      <td>2</td>\n",
       "      <td>8</td>\n",
       "      <td>...</td>\n",
       "      <td>0.5385</td>\n",
       "      <td>0.617361</td>\n",
       "      <td>0.857560</td>\n",
       "      <td>0.613487</td>\n",
       "      <td>0.665523</td>\n",
       "      <td>0.744634</td>\n",
       "      <td>0.744634</td>\n",
       "      <td>12</td>\n",
       "      <td>0</td>\n",
       "      <td>0.658486</td>\n",
       "    </tr>\n",
       "    <tr>\n",
       "      <th>2</th>\n",
       "      <td>8492423</td>\n",
       "      <td>21</td>\n",
       "      <td>weekly</td>\n",
       "      <td>0</td>\n",
       "      <td>2303</td>\n",
       "      <td>0</td>\n",
       "      <td>5</td>\n",
       "      <td>8</td>\n",
       "      <td>2</td>\n",
       "      <td>7</td>\n",
       "      <td>...</td>\n",
       "      <td>0.7485</td>\n",
       "      <td>0.677109</td>\n",
       "      <td>0.758765</td>\n",
       "      <td>0.495609</td>\n",
       "      <td>0.664762</td>\n",
       "      <td>0.592556</td>\n",
       "      <td>0.492556</td>\n",
       "      <td>6</td>\n",
       "      <td>1</td>\n",
       "      <td>0.668949</td>\n",
       "    </tr>\n",
       "    <tr>\n",
       "      <th>3</th>\n",
       "      <td>7948313</td>\n",
       "      <td>26</td>\n",
       "      <td>bi-weekly</td>\n",
       "      <td>0</td>\n",
       "      <td>2795</td>\n",
       "      <td>0</td>\n",
       "      <td>4</td>\n",
       "      <td>4</td>\n",
       "      <td>1</td>\n",
       "      <td>6</td>\n",
       "      <td>...</td>\n",
       "      <td>0.5080</td>\n",
       "      <td>0.738055</td>\n",
       "      <td>0.873204</td>\n",
       "      <td>0.666437</td>\n",
       "      <td>0.700392</td>\n",
       "      <td>0.584130</td>\n",
       "      <td>0.684130</td>\n",
       "      <td>14</td>\n",
       "      <td>1</td>\n",
       "      <td>0.697218</td>\n",
       "    </tr>\n",
       "    <tr>\n",
       "      <th>4</th>\n",
       "      <td>4297036</td>\n",
       "      <td>43</td>\n",
       "      <td>bi-weekly</td>\n",
       "      <td>0</td>\n",
       "      <td>5000</td>\n",
       "      <td>0</td>\n",
       "      <td>2</td>\n",
       "      <td>1</td>\n",
       "      <td>1</td>\n",
       "      <td>2</td>\n",
       "      <td>...</td>\n",
       "      <td>0.6910</td>\n",
       "      <td>0.798303</td>\n",
       "      <td>0.841747</td>\n",
       "      <td>0.401971</td>\n",
       "      <td>0.568787</td>\n",
       "      <td>0.525905</td>\n",
       "      <td>0.725905</td>\n",
       "      <td>5</td>\n",
       "      <td>1</td>\n",
       "      <td>0.660362</td>\n",
       "    </tr>\n",
       "  </tbody>\n",
       "</table>\n",
       "<p>5 rows × 22 columns</p>\n",
       "</div>"
      ],
      "text/plain": [
       "   Entry_id  age  pay_schedule  home_owner  income  months_employed  \\\n",
       "0   7629673   40     bi-weekly           1    3135                0   \n",
       "1   5335819   33  semi-monthly           0    3590                0   \n",
       "2   8492423   21        weekly           0    2303                0   \n",
       "3   7948313   26     bi-weekly           0    2795                0   \n",
       "4   4297036   43     bi-weekly           0    5000                0   \n",
       "\n",
       "   years_employed  current_address_year  personal_account_m  \\\n",
       "0               3                     3                   6   \n",
       "1               5                     2                   2   \n",
       "2               5                     8                   2   \n",
       "3               4                     4                   1   \n",
       "4               2                     1                   1   \n",
       "\n",
       "   personal_account_y  ...  risk_score  risk_score_2  risk_score_3  \\\n",
       "0                   2  ...      0.3620      0.737398      0.903517   \n",
       "1                   8  ...      0.5385      0.617361      0.857560   \n",
       "2                   7  ...      0.7485      0.677109      0.758765   \n",
       "3                   6  ...      0.5080      0.738055      0.873204   \n",
       "4                   2  ...      0.6910      0.798303      0.841747   \n",
       "\n",
       "   risk_score_4  risk_score_5  ext_quality_score  ext_quality_score_2  \\\n",
       "0      0.487712      0.515977           0.580918             0.380918   \n",
       "1      0.613487      0.665523           0.744634             0.744634   \n",
       "2      0.495609      0.664762           0.592556             0.492556   \n",
       "3      0.666437      0.700392           0.584130             0.684130   \n",
       "4      0.401971      0.568787           0.525905             0.725905   \n",
       "\n",
       "   inquiries_last_month  e_signed  risk_average  \n",
       "0                    10         1      0.601321  \n",
       "1                    12         0      0.658486  \n",
       "2                     6         1      0.668949  \n",
       "3                    14         1      0.697218  \n",
       "4                     5         1      0.660362  \n",
       "\n",
       "[5 rows x 22 columns]"
      ]
     },
     "execution_count": 114,
     "metadata": {},
     "output_type": "execute_result"
    }
   ],
   "source": [
    "train.head()"
   ]
  },
  {
   "cell_type": "code",
   "execution_count": 115,
   "id": "9b082649",
   "metadata": {
    "scrolled": true
   },
   "outputs": [
    {
     "data": {
      "text/plain": [
       "e_signed\n",
       "0    0.693592\n",
       "1    0.698511\n",
       "Name: risk_average, dtype: float64"
      ]
     },
     "execution_count": 115,
     "metadata": {},
     "output_type": "execute_result"
    }
   ],
   "source": [
    "train.groupby('e_signed').mean()['risk_average']"
   ]
  },
  {
   "cell_type": "markdown",
   "id": "d2d8f38c",
   "metadata": {},
   "source": [
    "There is no significant different between the average of the risk of both groups."
   ]
  },
  {
   "cell_type": "markdown",
   "id": "358d5674",
   "metadata": {},
   "source": [
    "### Ext Quality Score"
   ]
  },
  {
   "cell_type": "markdown",
   "id": "62f49772",
   "metadata": {},
   "source": [
    "Finding the mean of the ext_quality_score too..."
   ]
  },
  {
   "cell_type": "code",
   "execution_count": 119,
   "id": "1961117b",
   "metadata": {},
   "outputs": [],
   "source": [
    "train['ext_quality_average'] = (train['ext_quality_score'] + train['ext_quality_score_2'])/2\n",
    "\n",
    "test['ext_quality_average'] = (test['ext_quality_score'] + test['ext_quality_score_2'])/2"
   ]
  },
  {
   "cell_type": "code",
   "execution_count": 120,
   "id": "81da4344",
   "metadata": {},
   "outputs": [
    {
     "data": {
      "text/plain": [
       "e_signed\n",
       "0    0.625758\n",
       "1    0.618673\n",
       "Name: ext_quality_average, dtype: float64"
      ]
     },
     "execution_count": 120,
     "metadata": {},
     "output_type": "execute_result"
    }
   ],
   "source": [
    "train.groupby('e_signed').mean()['ext_quality_average']"
   ]
  },
  {
   "cell_type": "markdown",
   "id": "3eb95f24",
   "metadata": {},
   "source": [
    "There is also no significant difference between the approved and rejected ext_quality average."
   ]
  },
  {
   "cell_type": "markdown",
   "id": "222004c5",
   "metadata": {},
   "source": [
    "### Inquiries Last Month"
   ]
  },
  {
   "cell_type": "code",
   "execution_count": 121,
   "id": "054317d2",
   "metadata": {},
   "outputs": [
    {
     "data": {
      "text/plain": [
       "6     2065\n",
       "5     1937\n",
       "4     1683\n",
       "3     1283\n",
       "7     1230\n",
       "8      918\n",
       "2      880\n",
       "9      610\n",
       "10     489\n",
       "11     352\n",
       "12     234\n",
       "13     186\n",
       "14     132\n",
       "15     105\n",
       "16      81\n",
       "17      58\n",
       "18      52\n",
       "19      49\n",
       "20      31\n",
       "21      31\n",
       "22      23\n",
       "24      16\n",
       "23      14\n",
       "26      14\n",
       "27      12\n",
       "25       9\n",
       "28       9\n",
       "1        6\n",
       "29       4\n",
       "30       3\n",
       "Name: inquiries_last_month, dtype: int64"
      ]
     },
     "execution_count": 121,
     "metadata": {},
     "output_type": "execute_result"
    }
   ],
   "source": [
    "train.inquiries_last_month.value_counts()"
   ]
  },
  {
   "cell_type": "code",
   "execution_count": 122,
   "id": "7cd59458",
   "metadata": {},
   "outputs": [
    {
     "data": {
      "image/png": "[encoded data removed]",
      "text/plain": [
       "<Figure size 720x360 with 2 Axes>"
      ]
     },
     "metadata": {
      "needs_background": "light"
     },
     "output_type": "display_data"
    }
   ],
   "source": [
    "countplot('inquiries_last_month')"
   ]
  },
  {
   "cell_type": "code",
   "execution_count": 123,
   "id": "fc78d656",
   "metadata": {},
   "outputs": [
    {
     "data": {
      "text/plain": [
       "e_signed\n",
       "0    6.622609\n",
       "1    6.384866\n",
       "Name: inquiries_last_month, dtype: float64"
      ]
     },
     "execution_count": 123,
     "metadata": {},
     "output_type": "execute_result"
    }
   ],
   "source": [
    "train.groupby('e_signed').mean()['inquiries_last_month']"
   ]
  },
  {
   "cell_type": "markdown",
   "id": "f683a619",
   "metadata": {},
   "source": [
    " For both cases the average number on inquiries in the previous month is 6 to 7 times."
   ]
  }
 ],
 "metadata": {
  "kernelspec": {
   "display_name": "Python 3 (ipykernel)",
   "language": "python",
   "name": "python3"
  },
  "language_info": {
   "codemirror_mode": {
    "name": "ipython",
    "version": 3
   },
   "file_extension": ".py",
   "mimetype": "text/x-python",
   "name": "python",
   "nbconvert_exporter": "python",
   "pygments_lexer": "ipython3",
   "version": "3.9.12"
  }
 },
 "nbformat": 4,
 "nbformat_minor": 5
}
